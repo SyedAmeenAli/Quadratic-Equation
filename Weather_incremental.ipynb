{
  "nbformat": 4,
  "nbformat_minor": 0,
  "metadata": {
    "colab": {
      "provenance": [],
      "authorship_tag": "ABX9TyPHyhC+JV40PkeOEvuTgf+l",
      "include_colab_link": true
    },
    "kernelspec": {
      "name": "python3",
      "display_name": "Python 3"
    },
    "language_info": {
      "name": "python"
    }
  },
  "cells": [
    {
      "cell_type": "markdown",
      "metadata": {
        "id": "view-in-github",
        "colab_type": "text"
      },
      "source": [
        "<a href=\"https://colab.research.google.com/github/SyedAmeenAli/Weather-Report/blob/Weather-Incremental/Weather_incremental.ipynb\" target=\"_parent\"><img src=\"https://colab.research.google.com/assets/colab-badge.svg\" alt=\"Open In Colab\"/></a>"
      ]
    },
    {
      "cell_type": "code",
      "execution_count": 1,
      "metadata": {
        "colab": {
          "base_uri": "https://localhost:8080/"
        },
        "id": "P4mQli-jwoJP",
        "outputId": "03604720-6b90-42df-f67c-03c9baeba7ae"
      },
      "outputs": [
        {
          "output_type": "stream",
          "name": "stdout",
          "text": [
            "Incremental Model for Weather Prediction\n",
            "1. Increment 1: Hardcoded Values\n",
            "2. Increment 2: Keyboard Input\n",
            "3. Increment 3: File Input (Single Set)\n",
            "4. Increment 4: File Input (Multiple Sets)\n",
            "5. Increment 5: Loop for Multiple Keyboard Inputs\n",
            "Choose an increment (1-5): 3\n",
            "Error: File 'spam.txt' not found.\n"
          ]
        }
      ],
      "source": [
        "# Incremental model\n",
        "def calculate_weather_model(T, H, W):\n",
        "    return 0.5 * T**2 - 0.2 * H + 0.1 * W - 15\n",
        "\n",
        "def categorize_weather(weather_value):\n",
        "    if weather_value >= 20:\n",
        "        return \"Sunny\"\n",
        "    elif 10 <= weather_value < 20:\n",
        "        return \"Cloudy\"\n",
        "    elif 0 <= weather_value < 10:\n",
        "        return \"Rainy\"\n",
        "    else:\n",
        "        return \"Stormy\"\n",
        "\n",
        "def increment_1():\n",
        "    T, H, W = 30, 50, 10\n",
        "    weather_value = calculate_weather_model(T, H, W)\n",
        "    category = categorize_weather(weather_value)\n",
        "    print(f\"Increment 1: W = {weather_value:.2f}, Category = {category}\")\n",
        "\n",
        "def increment_2():\n",
        "    try:\n",
        "        T = float(input(\"Enter Temperature (T): \"))\n",
        "        H = float(input(\"Enter Humidity (H): \"))\n",
        "        W = float(input(\"Enter Wind Speed (W): \"))\n",
        "        weather_value = calculate_weather_model(T, H, W)\n",
        "        category = categorize_weather(weather_value)\n",
        "        print(f\"Increment 2: W = {weather_value:.2f}, Category = {category}\")\n",
        "    except ValueError:\n",
        "        print(\"Error: Invalid input. Please enter numeric values.\")\n",
        "\n",
        "def increment_3():\n",
        "    try:\n",
        "        with open(\"spam.txt\", \"r\") as file:\n",
        "            line = file.readline().strip()\n",
        "            T, H, W = map(float, line.split())\n",
        "            weather_value = calculate_weather_model(T, H, W)\n",
        "            category = categorize_weather(weather_value)\n",
        "            print(f\"Increment 3: W = {weather_value:.2f}, Category = {category}\")\n",
        "    except FileNotFoundError:\n",
        "        print(\"Error: File 'spam.txt' not found.\")\n",
        "    except ValueError:\n",
        "        print(\"Error: Invalid data format in 'spam.txt'.\")\n",
        "\n",
        "def increment_4():\n",
        "    try:\n",
        "        with open(\"spam.txt\", \"r\") as file:\n",
        "            lines = file.readlines()\n",
        "        for idx, line in enumerate(lines):\n",
        "            try:\n",
        "                T, H, W = map(float, line.strip().split())\n",
        "                weather_value = calculate_weather_model(T, H, W)\n",
        "                category = categorize_weather(weather_value)\n",
        "                print(f\"Increment 4 (Set {idx + 1}): W = {weather_value:.2f}, Category = {category}\")\n",
        "            except ValueError:\n",
        "                print(f\"Error: Invalid data format on line {idx + 1}. Skipping.\")\n",
        "    except FileNotFoundError:\n",
        "        print(\"Error: File 'spam.txt' not found.\")\n",
        "\n",
        "def increment_5():\n",
        "    try:\n",
        "        num_sets = int(input(\"Enter the number of input sets: \"))\n",
        "        for i in range(num_sets):\n",
        "            print(f\"\\nSet {i + 1}:\")\n",
        "            T = float(input(\"Enter Temperature (T): \"))\n",
        "            H = float(input(\"Enter Humidity (H): \"))\n",
        "            W = float(input(\"Enter Wind Speed (W): \"))\n",
        "            weather_value = calculate_weather_model(T, H, W)\n",
        "            category = categorize_weather(weather_value)\n",
        "            print(f\"Increment 5 (Set {i + 1}): W = {weather_value:.2f}, Category = {category}\")\n",
        "    except ValueError:\n",
        "        print(\"Error: Invalid input. Please enter numeric values.\")\n",
        "\n",
        "def main():\n",
        "    print(\"Incremental Model for Weather Prediction\")\n",
        "    print(\"1. Increment 1: Hardcoded Values\")\n",
        "    print(\"2. Increment 2: Keyboard Input\")\n",
        "    print(\"3. Increment 3: File Input (Single Set)\")\n",
        "    print(\"4. Increment 4: File Input (Multiple Sets)\")\n",
        "    print(\"5. Increment 5: Loop for Multiple Keyboard Inputs\")\n",
        "\n",
        "    try:\n",
        "        choice = int(input(\"Choose an increment (1-5): \"))\n",
        "        if choice == 1:\n",
        "            increment_1()\n",
        "        elif choice == 2:\n",
        "            increment_2()\n",
        "        elif choice == 3:\n",
        "            increment_3()\n",
        "        elif choice == 4:\n",
        "            increment_4()\n",
        "        elif choice == 5:\n",
        "            increment_5()\n",
        "        else:\n",
        "            print(\"Invalid choice. Exiting.\")\n",
        "    except ValueError:\n",
        "        print(\"Error: Please enter a valid numeric choice.\")\n",
        "\n",
        "if __name__ == \"__main__\":\n",
        "    main()"
      ]
    }
  ]
}