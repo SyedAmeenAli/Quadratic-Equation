{
  "nbformat": 4,
  "nbformat_minor": 0,
  "metadata": {
    "colab": {
      "provenance": [],
      "authorship_tag": "ABX9TyOIUQNst0Pl96TtaIh1yleM",
      "include_colab_link": true
    },
    "kernelspec": {
      "name": "python3",
      "display_name": "Python 3"
    },
    "language_info": {
      "name": "python"
    }
  },
  "cells": [
    {
      "cell_type": "markdown",
      "metadata": {
        "id": "view-in-github",
        "colab_type": "text"
      },
      "source": [
        "<a href=\"https://colab.research.google.com/github/SyedAmeenAli/Weather-Report/blob/Weather-Report/Weather_report.ipynb\" target=\"_parent\"><img src=\"https://colab.research.google.com/assets/colab-badge.svg\" alt=\"Open In Colab\"/></a>"
      ]
    },
    {
      "cell_type": "code",
      "execution_count": null,
      "metadata": {
        "colab": {
          "base_uri": "https://localhost:8080/"
        },
        "id": "Y2RCdFhUukjw",
        "outputId": "84bcc5e6-28f0-4b0b-8ce2-d7ca01d0e1df"
      },
      "outputs": [
        {
          "output_type": "stream",
          "name": "stdout",
          "text": [
            "Enter the following variables to find rthe weather: \n",
            "\n",
            "Enter the Temperture in Celcius: 23\n",
            "Enter the Humidity %: 22\n",
            "Enter the Speed of the Wind in m/s: 15\n",
            "The Weather is Stormy\n",
            "246.60000000000002\n"
          ]
        }
      ],
      "source": [
        "print (\"Enter the following variables to find rthe weather: \\n\")\n",
        "temperature = int(input(\"Enter the Temperture in Celcius: \"))\n",
        "humidity = int(input(\"Enter the Humidity %: \"))\n",
        "wind = int(input(\"Enter the Speed of the Wind in m/s: \"))\n",
        "weather = (0.5 * temperature * temperature) - (0.2 * humidity) + (0.1 * wind)- 15\n",
        "if weather > 300:\n",
        "    print (\"The weather is Sunny\")\n",
        "elif 200 < weather <= 300:\n",
        "    print (\"The Weather is Stormy\")\n",
        "elif (weather < 100):\n",
        "    print (\"The weather is Stormy\")\n",
        "else:\n",
        "    print (\"enter valid things\")\n",
        "\n",
        "print (weather)"
      ]
    }
  ]
}