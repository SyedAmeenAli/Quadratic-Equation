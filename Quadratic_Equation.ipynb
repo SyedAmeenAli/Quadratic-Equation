{
  "nbformat": 4,
  "nbformat_minor": 0,
  "metadata": {
    "colab": {
      "provenance": [],
      "authorship_tag": "ABX9TyO3ZpRw1oSTGKy/rv0mmg3t",
      "include_colab_link": true
    },
    "kernelspec": {
      "name": "python3",
      "display_name": "Python 3"
    },
    "language_info": {
      "name": "python"
    }
  },
  "cells": [
    {
      "cell_type": "markdown",
      "metadata": {
        "id": "view-in-github",
        "colab_type": "text"
      },
      "source": [
        "<a href=\"https://colab.research.google.com/github/SyedAmeenAli/Weather-Report/blob/Quadratic-Equation/Quadratic_Equation.ipynb\" target=\"_parent\"><img src=\"https://colab.research.google.com/assets/colab-badge.svg\" alt=\"Open In Colab\"/></a>"
      ]
    },
    {
      "cell_type": "code",
      "execution_count": 4,
      "metadata": {
        "colab": {
          "base_uri": "https://localhost:8080/"
        },
        "id": "-gRg8i0C0NAL",
        "outputId": "5bac2530-2e99-42cc-e1fa-17f4f5b180d5"
      },
      "outputs": [
        {
          "output_type": "stream",
          "name": "stdout",
          "text": [
            "Enter mode ('hardcoded', 'input', or 'file'): hardcoded\n",
            "Temperature at time 1: 4.00 degrees\n",
            "Temperature at time 2: 4.41 degrees\n",
            "Temperature at time 3: 4.73 degrees\n"
          ]
        }
      ],
      "source": [
        "def quadratic_solution(a, b, time, c):\n",
        "    # Fixing the discriminant calculation and parentheses\n",
        "    discriminant = b**2 - 4 * a * (c - time)\n",
        "\n",
        "    if discriminant < 0:\n",
        "        # Handling cases where the discriminant is negative\n",
        "        raise ValueError(\"No real solutions exist (discriminant < 0).\")\n",
        "\n",
        "    # Calculating the solutions\n",
        "    sol1 = (-b - discriminant**0.5) / (2 * a)\n",
        "    sol2 = (-b + discriminant**0.5) / (2 * a)\n",
        "    return sol1, sol2\n",
        "\n",
        "def weather_model(mode):\n",
        "    if mode == \"hardcoded\":\n",
        "        a, b, c = 1, -6.0, 9.0\n",
        "        for time in range(1, 4):\n",
        "            try:\n",
        "                temp = quadratic_solution(a, b, time, c)[1]\n",
        "                print(f\"Temperature at time {time}: {temp:.2f} degrees\")\n",
        "            except ValueError as e:\n",
        "                print(f\"Error at time {time}: {e}\")\n",
        "    elif mode == \"input\":\n",
        "        a = float(input(\"Enter coefficient a: \"))\n",
        "        b = float(input(\"Enter coefficient b: \"))\n",
        "        c = float(input(\"Enter initial temperature: \"))\n",
        "        for time in range(1, 4):\n",
        "            try:\n",
        "                temp = quadratic_solution(a, b, time, c)[1]\n",
        "                print(f\"Temperature at time {time}: {temp:.2f} degrees\")\n",
        "            except ValueError as e:\n",
        "                print(f\"Error at time {time}: {e}\")\n",
        "    elif mode == \"file\":\n",
        "        try:\n",
        "            with open('spam.txt', 'r') as file:\n",
        "                for set_num, line in enumerate(file):\n",
        "                    try:\n",
        "                        a, b, c = [float(value) for value in line.strip().split() if value]\n",
        "                        print(f\"Weather simulation for set {set_num + 1}:\")\n",
        "                        for time in range(1, 4):\n",
        "                            try:\n",
        "                                temp = quadratic_solution(a, b, time, c)[1]\n",
        "                                print(f\"  Temperature at time {time}: {temp:.2f} degrees\")\n",
        "                            except ValueError as e:\n",
        "                                print(f\"  Error at time {time}: {e}\")\n",
        "                    except ValueError:\n",
        "                        print(f\"Warning: Invalid data on line {set_num + 1}. Skipping.\")\n",
        "        except FileNotFoundError:\n",
        "            print(\"Error: spam.txt not found.\")\n",
        "\n",
        "# Choose the mode of operation\n",
        "mode = input(\"Enter mode ('hardcoded', 'input', or 'file'): \").lower()\n",
        "weather_model(mode)"
      ]
    },
    {
      "cell_type": "markdown",
      "source": [],
      "metadata": {
        "id": "MkFr61Gb0qlu"
      }
    }
  ]
}