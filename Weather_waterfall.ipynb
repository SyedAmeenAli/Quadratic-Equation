{
  "nbformat": 4,
  "nbformat_minor": 0,
  "metadata": {
    "colab": {
      "provenance": [],
      "authorship_tag": "ABX9TyO9Xk1XfAKRNsAjKESiDvCj",
      "include_colab_link": true
    },
    "kernelspec": {
      "name": "python3",
      "display_name": "Python 3"
    },
    "language_info": {
      "name": "python"
    }
  },
  "cells": [
    {
      "cell_type": "markdown",
      "metadata": {
        "id": "view-in-github",
        "colab_type": "text"
      },
      "source": [
        "<a href=\"https://colab.research.google.com/github/SyedAmeenAli/Weather-Report/blob/Weather-Waterfall/Weather_waterfall.ipynb\" target=\"_parent\"><img src=\"https://colab.research.google.com/assets/colab-badge.svg\" alt=\"Open In Colab\"/></a>"
      ]
    },
    {
      "cell_type": "code",
      "execution_count": 1,
      "metadata": {
        "colab": {
          "base_uri": "https://localhost:8080/"
        },
        "id": "BdeafroKvvRE",
        "outputId": "aacaf44f-8b53-4a4d-a6de-a34e6ceccc0c"
      },
      "outputs": [
        {
          "output_type": "stream",
          "name": "stdout",
          "text": [
            "Starting Weather Model (Waterfall Model)\n",
            "Stage 1: Input Weather Parameters\n",
            "Enter temperature (T): 12\n",
            "Enter humidity (H): 22\n",
            "Enter wind speed (W): 11\n",
            "\n",
            "Stage 2: Calculating Weather Result\n",
            "Calculated Result: 53.69999999999999\n",
            "\n",
            "Stage 3: Categorizing Weather\n",
            "The weather is Rainy\n",
            "\n",
            "Weather Model Complete.\n"
          ]
        }
      ],
      "source": [
        "def get_user_input():\n",
        "    \"\"\"Stage 1: Get user input for T, H, and W.\"\"\"\n",
        "    print(\"Stage 1: Input Weather Parameters\")\n",
        "    while True:\n",
        "        try:\n",
        "            T = float(input(\"Enter temperature (T): \"))\n",
        "            H = float(input(\"Enter humidity (H): \"))\n",
        "            W = float(input(\"Enter wind speed (W): \"))\n",
        "            if T < -273.15:\n",
        "                raise ValueError(\"Temperature cannot be below absolute zero (-273.15°C).\")\n",
        "            if H < 0 or H > 100:\n",
        "                raise ValueError(\"Humidity must be between 0 and 100.\")\n",
        "            if W < 0:\n",
        "                raise ValueError(\"Windspeed cannot be negative\")\n",
        "            return T, H, W\n",
        "        except ValueError as e:\n",
        "            print(f\"Invalid input: {e}. Please enter valid numeric values.\")\n",
        "\n",
        "def calculate_weather_result(T, H, W):\n",
        "    \"\"\"Stage 2: Calculate the weather result using the quadratic equation.\"\"\"\n",
        "    print(\"\\nStage 2: Calculating Weather Result\")\n",
        "    result = 0.5 * T**2 - 0.2 * H + 0.1 * W - 15\n",
        "    print(f\"Calculated Result: {result}\")\n",
        "    return result\n",
        "\n",
        "def categorize_weather(result, sunny_threshold=300, stormy_upper=300, stormy_lower=200, rainy_threshold=100):\n",
        "    \"\"\"Stage 3: Categorize the weather based on the result.\"\"\"\n",
        "    print(\"\\nStage 3: Categorizing Weather\")\n",
        "    if result > sunny_threshold:\n",
        "        print(\"The weather is Sunny\")\n",
        "    elif stormy_lower < result <= stormy_upper:\n",
        "        print(\"The Weather is Stormy\")\n",
        "    elif result < rainy_threshold:\n",
        "        print(\"The weather is Rainy\")\n",
        "    else:\n",
        "        print(\"The weather is Cloudy\")\n",
        "    return\n",
        "\n",
        "def main():\n",
        "    \"\"\"Main function to execute the weather model in a waterfall manner.\"\"\"\n",
        "    print(\"Starting Weather Model (Waterfall Model)\")\n",
        "\n",
        "    # Stage 1: Input\n",
        "    T, H, W = get_user_input()\n",
        "\n",
        "    # Stage 2: Calculation\n",
        "    result = calculate_weather_result(T, H, W)\n",
        "\n",
        "    # Stage 3: Categorization\n",
        "    categorize_weather(result)\n",
        "\n",
        "    print(\"\\nWeather Model Complete.\")\n",
        "\n",
        "if __name__ == \"__main__\":\n",
        "    main()"
      ]
    }
  ]
}