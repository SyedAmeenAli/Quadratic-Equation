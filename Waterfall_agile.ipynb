{
  "nbformat": 4,
  "nbformat_minor": 0,
  "metadata": {
    "colab": {
      "provenance": [],
      "authorship_tag": "ABX9TyOhvI7JlEAF2gUgjJVeAmww",
      "include_colab_link": true
    },
    "kernelspec": {
      "name": "python3",
      "display_name": "Python 3"
    },
    "language_info": {
      "name": "python"
    }
  },
  "cells": [
    {
      "cell_type": "markdown",
      "metadata": {
        "id": "view-in-github",
        "colab_type": "text"
      },
      "source": [
        "<a href=\"https://colab.research.google.com/github/SyedAmeenAli/Weather-Report/blob/Water-Fall-Agile/Waterfall_agile.ipynb\" target=\"_parent\"><img src=\"https://colab.research.google.com/assets/colab-badge.svg\" alt=\"Open In Colab\"/></a>"
      ]
    },
    {
      "cell_type": "code",
      "execution_count": null,
      "metadata": {
        "colab": {
          "base_uri": "https://localhost:8080/"
        },
        "id": "KVnqxIYkvL5A",
        "outputId": "1d735f84-33b0-4a2a-c15b-93c0a4da30c2"
      },
      "outputs": [
        {
          "output_type": "stream",
          "name": "stdout",
          "text": [
            "Starting Weather Model (Agile Model)\n",
            "Sprint 1: Basic User Input\n",
            "Enter temperature (T): 24\n",
            "\n",
            "Sprint 2: Basic Calculation\n",
            "Calculated Result (using only T): 273.0\n",
            "\n",
            "Sprint 3: Basic Categorization\n",
            "The Weather is Unstable\n",
            "\n",
            "Sprint 4: Adding Humidity\n",
            "Enter humidity (H): 22\n",
            "Calculated Result (with H): 268.6\n",
            "\n",
            "Sprint 5: Adding Wind and Refining Categories\n",
            "Enter wind speed (W): 12\n",
            "Calculated Result (with H and W): 220.48\n",
            "The Weather is Stormy\n",
            "\n",
            "Weather Model Development Complete (Agile).\n"
          ]
        }
      ],
      "source": [
        "import random\n",
        "\n",
        "def get_user_input():\n",
        "    print(\"Sprint 1: Basic User Input\")\n",
        "    while True:\n",
        "        try:\n",
        "            T = float(input(\"Enter temperature (T): \"))\n",
        "            return T\n",
        "        except ValueError:\n",
        "            print(\"Invalid input. Please enter a valid number for temperature.\")\n",
        "\n",
        "def calculate_weather_result(T):\n",
        "    print(\"\\nSprint 2: Basic Calculation\")\n",
        "    result = 0.5 * T**2 - 15\n",
        "    print(f\"Calculated Result (using only T): {result}\")\n",
        "    return result\n",
        "\n",
        "def categorize_weather(result):\n",
        "    print(\"\\nSprint 3: Basic Categorization\")\n",
        "    if result > 300:\n",
        "        print(\"The weather is Sunny\")\n",
        "    elif result > 0:\n",
        "        print(\"The Weather is Unstable\")\n",
        "    else:\n",
        "        print(\"The weather is Calm\")\n",
        "    return\n",
        "\n",
        "def add_humidity(T):\n",
        "    print(\"\\nSprint 4: Adding Humidity\")\n",
        "    while True:\n",
        "        try:\n",
        "            H = float(input(\"Enter humidity (H): \"))\n",
        "            if H < 0 or H > 100:\n",
        "                raise ValueError(\"Humidity must be between 0 and 100.\")\n",
        "            break\n",
        "        except ValueError:\n",
        "            print(\"Invalid input for humidity. Please enter a number between 0 and 100\")\n",
        "    result = 0.5 * T**2 - 0.2 * H - 15\n",
        "    print(f\"Calculated Result (with H): {result}\")\n",
        "    return result\n",
        "\n",
        "def add_wind(T, H):\n",
        "    print(\"\\nSprint 5: Adding Wind and Refining Categories\")\n",
        "    while True:\n",
        "        try:\n",
        "            W = float(input(\"Enter wind speed (W): \"))\n",
        "            if W < 0:\n",
        "                raise ValueError(\"Windspeed cannot be negative\")\n",
        "            break\n",
        "        except ValueError:\n",
        "            print(\"Invalid input for Windspeed. Please enter a non-negative number\")\n",
        "    result = 0.5 * T**2 - 0.2 * H + 0.1*W - 15\n",
        "    print(f\"Calculated Result (with H and W): {result}\")\n",
        "    if result > 300:\n",
        "        print(\"The weather is Sunny\")\n",
        "    elif 200 < result <= 300:\n",
        "        print(\"The Weather is Stormy\")\n",
        "    elif result < 100:\n",
        "        print(\"The weather is Rainy\")\n",
        "    else:\n",
        "        print(\"The weather is Cloudy\")\n",
        "    return\n",
        "\n",
        "def main_agile():\n",
        "    print(\"Starting Weather Model (Agile Model)\")\n",
        "\n",
        "    T = get_user_input()\n",
        "    result = calculate_weather_result(T)\n",
        "    categorize_weather(result)\n",
        "    result = add_humidity(T)\n",
        "    add_wind(T, result)\n",
        "\n",
        "    print(\"\\nWeather Model Development Complete (Agile).\")\n",
        "\n",
        "if __name__ == \"__main__\":\n",
        "    main_agile()"
      ]
    }
  ]
}